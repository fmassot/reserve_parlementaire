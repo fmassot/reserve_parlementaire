{
 "metadata": {
  "name": "reserve-analysis"
 },
 "nbformat": 3,
 "nbformat_minor": 0,
 "worksheets": [
  {
   "cells": [
    {
     "cell_type": "markdown",
     "metadata": {},
     "source": [
      "\n",
      "## Analyse de la r\u00e9serve parlementaire de 2011 (en cours)\n",
      "\n",
      "Pour l'instant, les donn\u00e9es suivantes sont utilis\u00e9es:\n",
      "\n",
      " * r\u00e9serve parlementaire de 2011 [source](http://www.nosdonnees.fr/dataset/r-serve-parlementaire-2011-attribu-e-aux-collectivit-s-territoriales)\n",
      " * donn\u00e9es GEOFLA de l'IGN (communes) [source](http://professionnels.ign.fr/geofla)\n",
      " * r\u00e9sultat des \u00e9lections municipales pour les communes de plus de 3500 habs [source](http://www.data.gouv.fr/DataSet/572150?xtmc=\u00e9lection%20municipale&xtcr=4)\n",
      " * activit\u00e9 des d\u00e9put\u00e9s [source](http://www.nosdeputes.fr/synthese)"
     ]
    },
    {
     "cell_type": "markdown",
     "metadata": {},
     "source": [
      "### R\u00e9cup\u00e9ration de l'activit\u00e9 des d\u00e9put\u00e9s"
     ]
    },
    {
     "cell_type": "code",
     "collapsed": false,
     "input": [
      "# Good practice 1: \n",
      "# - never do from module import *\n",
      "# => always name things\n",
      "\n",
      "# requests is a very nice http lib\n",
      "import requests\n",
      "from requests import get\n",
      "\n",
      "# Get subventions data\n",
      "r = get('http://www.regardscitoyens.org/wp-content/uploads/reserve-parlementaire-2011-parletdep.csv')\n",
      "with open('../data/reserve-parlementaire-2011-parletdep.csv', 'w') as f:\n",
      "    f.write(r.text.encode('utf-8'))"
     ],
     "language": "python",
     "metadata": {},
     "outputs": [],
     "prompt_number": 1
    },
    {
     "cell_type": "code",
     "collapsed": false,
     "input": [
      "from bs4 import BeautifulSoup\n",
      "\n",
      "r = get('http://www.nosdeputes.fr/synthese')\n",
      "soup = BeautifulSoup(r.text)"
     ],
     "language": "python",
     "metadata": {},
     "outputs": [],
     "prompt_number": 3
    },
    {
     "cell_type": "code",
     "collapsed": false,
     "input": [
      "# Scrape: select with css attributes\n",
      "table = soup.find('div', class_='tableau_synthese').table\n",
      "\n",
      "activity_data = []\n",
      "for tr in table.find_all('tr'):\n",
      "    tds = tr.find_all('td')[:2]\n",
      "    activity_data.append({'name': tds[0].text, 'weeks': int(tds[1].text)})"
     ],
     "language": "python",
     "metadata": {},
     "outputs": [],
     "prompt_number": 4
    },
    {
     "cell_type": "code",
     "collapsed": false,
     "input": [
      "activity_data[1]"
     ],
     "language": "python",
     "metadata": {},
     "outputs": [
      {
       "output_type": "pyout",
       "prompt_number": 5,
       "text": [
        "{'name': u'Laurence Abeille', 'weeks': 39}"
       ]
      }
     ],
     "prompt_number": 5
    },
    {
     "cell_type": "markdown",
     "metadata": {},
     "source": [
      "## Traitement des donn\u00e9es geofla, \u00e9lections municipales, r\u00e9serve parlementaire"
     ]
    },
    {
     "cell_type": "code",
     "collapsed": false,
     "input": [
      "import json\n",
      "\n",
      "import pandas as pd\n",
      "\n",
      "from fiona import collection\n",
      "\n",
      "from matplotlib.ticker import Formatter, FixedLocator"
     ],
     "language": "python",
     "metadata": {},
     "outputs": [],
     "prompt_number": 6
    },
    {
     "cell_type": "markdown",
     "metadata": {},
     "source": [
      "### Traitement des donn\u00e9es GEOFLA de l'IGN"
     ]
    },
    {
     "cell_type": "code",
     "collapsed": false,
     "input": [
      "# Import GEOFLA data\n",
      "geofla_filepath = '../data/COMMUNES/COMMUNE_4326.SHP'\n",
      "\n",
      "# Set a simple function to extract only useful data\n",
      "def extract_data(com):\n",
      "    properties = com['properties']\n",
      "    return {\n",
      "        'id': com['id'],\n",
      "        'insee_code': properties['INSEE_COM'],\n",
      "        'name': properties['NOM_COMM'],\n",
      "        'population': properties['POPULATION'] * 1000,\n",
      "        'POPULATION': properties['POPULATION'],\n",
      "        'department': properties['NOM_DEPT'],\n",
      "        'code_dep': properties['CODE_DEPT'],\n",
      "    }\n",
      "\n",
      "with collection(geofla_filepath) as communes:\n",
      "    # DataFrame are like excel tables but far better\n",
      "    com_data = pd.DataFrame([extract_data(com) for com in communes])\n",
      "\n",
      "com_data.head()"
     ],
     "language": "python",
     "metadata": {},
     "outputs": [
      {
       "html": [
        "<div style=\"max-height:1000px;max-width:1500px;overflow:auto;\">\n",
        "<table border=\"1\" class=\"dataframe\">\n",
        "  <thead>\n",
        "    <tr style=\"text-align: right;\">\n",
        "      <th></th>\n",
        "      <th>POPULATION</th>\n",
        "      <th>code_dep</th>\n",
        "      <th>department</th>\n",
        "      <th>id</th>\n",
        "      <th>insee_code</th>\n",
        "      <th>name</th>\n",
        "      <th>population</th>\n",
        "    </tr>\n",
        "  </thead>\n",
        "  <tbody>\n",
        "    <tr>\n",
        "      <th>0</th>\n",
        "      <td> 0.9</td>\n",
        "      <td> 29</td>\n",
        "      <td> FINISTERE</td>\n",
        "      <td> 0</td>\n",
        "      <td> 29271</td>\n",
        "      <td>             SAINT-VOUGAY</td>\n",
        "      <td>  900</td>\n",
        "    </tr>\n",
        "    <tr>\n",
        "      <th>1</th>\n",
        "      <td> 3.6</td>\n",
        "      <td> 30</td>\n",
        "      <td>      GARD</td>\n",
        "      <td> 1</td>\n",
        "      <td> 30223</td>\n",
        "      <td>                  ROUSSON</td>\n",
        "      <td> 3600</td>\n",
        "    </tr>\n",
        "    <tr>\n",
        "      <th>2</th>\n",
        "      <td> 0.2</td>\n",
        "      <td> 30</td>\n",
        "      <td>      GARD</td>\n",
        "      <td> 2</td>\n",
        "      <td> 30252</td>\n",
        "      <td> SAINT-FELIX-DE-PALLIERES</td>\n",
        "      <td>  200</td>\n",
        "    </tr>\n",
        "    <tr>\n",
        "      <th>3</th>\n",
        "      <td> 0.5</td>\n",
        "      <td> 24</td>\n",
        "      <td>  DORDOGNE</td>\n",
        "      <td> 3</td>\n",
        "      <td> 24092</td>\n",
        "      <td>                CENDRIEUX</td>\n",
        "      <td>  500</td>\n",
        "    </tr>\n",
        "    <tr>\n",
        "      <th>4</th>\n",
        "      <td> 1.6</td>\n",
        "      <td> 88</td>\n",
        "      <td>    VOSGES</td>\n",
        "      <td> 4</td>\n",
        "      <td> 88463</td>\n",
        "      <td>                 TAINTRUX</td>\n",
        "      <td> 1600</td>\n",
        "    </tr>\n",
        "  </tbody>\n",
        "</table>\n",
        "</div>"
       ],
       "output_type": "pyout",
       "prompt_number": 8,
       "text": [
        "   POPULATION code_dep department id insee_code                      name  population\n",
        "0         0.9       29  FINISTERE  0      29271              SAINT-VOUGAY         900\n",
        "1         3.6       30       GARD  1      30223                   ROUSSON        3600\n",
        "2         0.2       30       GARD  2      30252  SAINT-FELIX-DE-PALLIERES         200\n",
        "3         0.5       24   DORDOGNE  3      24092                 CENDRIEUX         500\n",
        "4         1.6       88     VOSGES  4      88463                  TAINTRUX        1600"
       ]
      }
     ],
     "prompt_number": 8
    },
    {
     "cell_type": "code",
     "collapsed": false,
     "input": [
      "# Export to geojson\n",
      "with collection(geofla_filepath) as communes:\n",
      "    data = []\n",
      "    for feat in communes:\n",
      "        feat['type'] = 'Feature'\n",
      "        data.append(feat)\n",
      "        \n",
      "    my_layer = {\n",
      "        \"type\": \"FeatureCollection\",\n",
      "        \"features\": [com for com in data if com['properties']['POPULATION'] > 1]\n",
      "    }\n",
      "    with open(\"my_layer.json\", \"w\") as f:\n",
      "        f.write(json.dumps(my_layer))"
     ],
     "language": "python",
     "metadata": {},
     "outputs": [],
     "prompt_number": 9
    },
    {
     "cell_type": "code",
     "collapsed": false,
     "input": [
      "#\n",
      "# XXX: Test folium pacakge to make a chloropleth map with d3.js\n",
      "# XXX: Works only with PYTHON 2.7\n",
      "#\n",
      "\n",
      "\n",
      "import folium\n",
      "\n",
      "map_2 = folium.Map(location=[46.907, 1.662], zoom_start=6)\n",
      "map_2.geo_json(geo_path=\"my_layer.json\", data_out='data2.json', data=com_data[com_data['POPULATION']>1],\n",
      "               columns=['id', 'POPULATION'],\n",
      "               key_on='feature.id',\n",
      "               fill_color='BuPu', fill_opacity=0.9, line_opacity=0.4,\n",
      "               legend_name='POPULATION')\n",
      "map_2.create_map(path='map_population.html')"
     ],
     "language": "python",
     "metadata": {},
     "outputs": [
      {
       "ename": "SyntaxError",
       "evalue": "invalid syntax (utilities.py, line 92)",
       "output_type": "pyerr",
       "traceback": [
        "\u001b[0;36m  File \u001b[0;32m\"/Users/fmassot/Envs/politics/lib/python2.6/site-packages/folium/utilities.py\"\u001b[0;36m, line \u001b[0;32m92\u001b[0m\n\u001b[0;31m    json_data = [{type_check(x): type_check(y) for x, y in data.iteritems()}]\u001b[0m\n\u001b[0m                                                 ^\u001b[0m\n\u001b[0;31mSyntaxError\u001b[0m\u001b[0;31m:\u001b[0m invalid syntax\n"
       ]
      }
     ],
     "prompt_number": 11
    },
    {
     "cell_type": "markdown",
     "metadata": {},
     "source": [
      "### Traitement des donn\u00e9es de la r\u00e9serve parlementaire"
     ]
    },
    {
     "cell_type": "code",
     "collapsed": false,
     "input": [
      "import codecs\n",
      "reserve_file = codecs.open(\"../data/reserve-parlementaire-2011-parletdep.csv\", encoding='utf-8')"
     ],
     "language": "python",
     "metadata": {},
     "outputs": [],
     "prompt_number": 14
    },
    {
     "cell_type": "code",
     "collapsed": false,
     "input": [
      "res_data = pd.io.parsers.read_csv(reserve_file, sep=';')\n",
      "# print columns\n",
      "res_data.keys()"
     ],
     "language": "python",
     "metadata": {},
     "outputs": [
      {
       "output_type": "pyout",
       "prompt_number": 15,
       "text": [
        "Index([u'B\u00e9n\u00e9ficiaire', u'D\u00e9partement', u'Nature du projet', u'Co\u00fbt du projet', u'Subvention allou\u00e9e', u'Part prise en charge', u'Parlementaire transmetteur', u'Nature', u'D\u00e9partement Parlementaire', u'Groupe politique du parlementaire', u'Lien vers donn\u00e9es parlementaires'], dtype=object)"
       ]
      }
     ],
     "prompt_number": 15
    },
    {
     "cell_type": "code",
     "collapsed": false,
     "input": [
      "res_data[['D\u00e9partement', 'Subvention allou\u00e9e', 'Parlementaire transmetteur', 'B\u00e9n\u00e9ficiaire']].head()"
     ],
     "language": "python",
     "metadata": {},
     "outputs": [
      {
       "html": [
        "<div style=\"max-height:1000px;max-width:1500px;overflow:auto;\">\n",
        "<table border=\"1\" class=\"dataframe\">\n",
        "  <thead>\n",
        "    <tr style=\"text-align: right;\">\n",
        "      <th></th>\n",
        "      <th>D\u00e9partement</th>\n",
        "      <th>Subvention allou\u00e9e</th>\n",
        "      <th>Parlementaire transmetteur</th>\n",
        "      <th>B\u00e9n\u00e9ficiaire</th>\n",
        "    </tr>\n",
        "  </thead>\n",
        "  <tbody>\n",
        "    <tr>\n",
        "      <th>0</th>\n",
        "      <td> 25</td>\n",
        "      <td> 9000</td>\n",
        "      <td>           ACCOYER Bernard</td>\n",
        "      <td>         ABBANS-DESSOUS</td>\n",
        "    </tr>\n",
        "    <tr>\n",
        "      <th>1</th>\n",
        "      <td> 60</td>\n",
        "      <td> 9500</td>\n",
        "      <td>           MARINI Philippe</td>\n",
        "      <td>              ABBECOURT</td>\n",
        "    </tr>\n",
        "    <tr>\n",
        "      <th>2</th>\n",
        "      <td> 60</td>\n",
        "      <td> 1400</td>\n",
        "      <td>            LARCHER G\u00e9rard</td>\n",
        "      <td> ABBEVILLE-SAINT-LUCIEN</td>\n",
        "    </tr>\n",
        "    <tr>\n",
        "      <th>3</th>\n",
        "      <td> 70</td>\n",
        "      <td> 2500</td>\n",
        "      <td>             RAISON Michel</td>\n",
        "      <td>              ABELCOURT</td>\n",
        "    </tr>\n",
        "    <tr>\n",
        "      <th>4</th>\n",
        "      <td> 62</td>\n",
        "      <td> 7000</td>\n",
        "      <td> VANLERENBERGHE Jean-Marie</td>\n",
        "      <td>          ABLAINZEVELLE</td>\n",
        "    </tr>\n",
        "  </tbody>\n",
        "</table>\n",
        "</div>"
       ],
       "output_type": "pyout",
       "prompt_number": 33,
       "text": [
        "  D\u00e9partement  Subvention allou\u00e9e Parlementaire transmetteur            B\u00e9n\u00e9ficiaire\n",
        "0          25                9000            ACCOYER Bernard          ABBANS-DESSOUS\n",
        "1          60                9500            MARINI Philippe               ABBECOURT\n",
        "2          60                1400             LARCHER G\u00e9rard  ABBEVILLE-SAINT-LUCIEN\n",
        "3          70                2500              RAISON Michel               ABELCOURT\n",
        "4          62                7000  VANLERENBERGHE Jean-Marie           ABLAINZEVELLE"
       ]
      }
     ],
     "prompt_number": 33
    },
    {
     "cell_type": "code",
     "collapsed": false,
     "input": [
      "res_data['Groupe politique du parlementaire'].unique()"
     ],
     "language": "python",
     "metadata": {},
     "outputs": [
      {
       "output_type": "pyout",
       "prompt_number": 17,
       "text": [
        "array(['UMP', 'UDI', 'NI', nan, 'SRC', 'SOC', 'RDSE', 'SOCV', 'GDR', 'UC',\n",
        "       'CRC-SPG', 'NC', 'CRC', 'ECO'], dtype=object)"
       ]
      }
     ],
     "prompt_number": 17
    },
    {
     "cell_type": "markdown",
     "metadata": {},
     "source": [
      "### Exploration des donn\u00e9es de la r\u00e9serve parlementaire\n",
      "\n",
      "#### R\u00e9partition des subventions\n"
     ]
    },
    {
     "cell_type": "code",
     "collapsed": false,
     "input": [
      "fig, ax = subplots(figsize=(8,6))\n",
      "sorted_sub = res_data['Subvention allou\u00e9e'].copy()\n",
      "sorted_sub.sort()\n",
      "id_max = int(sorted_sub.size * 0.9) + 1\n",
      "ax.plot(sorted_sub[:id_max], pd.np.arange(id_max) * 1. / id_max)\n",
      "ax.grid(True)\n",
      "ax.set_title(u\"R\u00e9partition des subventions\")\n"
     ],
     "language": "python",
     "metadata": {},
     "outputs": [
      {
       "output_type": "pyout",
       "prompt_number": 18,
       "text": [
        "<matplotlib.text.Text at 0x116669710>"
       ]
      },
      {
       "output_type": "display_data",
       "png": "[encoded data removed]"
      }
     ],
     "prompt_number": 18
    },
    {
     "cell_type": "markdown",
     "metadata": {},
     "source": [
      "#### \n"
     ]
    },
    {
     "cell_type": "markdown",
     "metadata": {},
     "source": [
      "### R\u00e9partion des subventions par b\u00e9n\u00e9ficiaire"
     ]
    },
    {
     "cell_type": "code",
     "collapsed": false,
     "input": [
      "print \"\"\"Le nombre de commune ayant re\u00e7u des subvention est de %s\n",
      "sur %s communes au total.\"\"\"%(res_data['B\u00e9n\u00e9ficiaire'].unique().size, com_data.shape[0])"
     ],
     "language": "python",
     "metadata": {},
     "outputs": [
      {
       "output_type": "stream",
       "stream": "stdout",
       "text": [
        "Le nombre de commune ayant re\u00e7u des subvention est de 8263\n",
        "sur 36613 communes au total.\n"
       ]
      }
     ],
     "prompt_number": 19
    },
    {
     "cell_type": "code",
     "collapsed": false,
     "input": [
      "gp = res_data.groupby(['B\u00e9n\u00e9ficiaire', 'D\u00e9partement'])"
     ],
     "language": "python",
     "metadata": {},
     "outputs": [],
     "prompt_number": 20
    },
    {
     "cell_type": "code",
     "collapsed": false,
     "input": [
      "agg = gp.agg({'Subvention allou\u00e9e' : np.sum})\n",
      "agg = agg.sort(column='Subvention allou\u00e9e', ascending=False)\n",
      "agg.head(n=10)"
     ],
     "language": "python",
     "metadata": {},
     "outputs": [
      {
       "html": [
        "<div style=\"max-height:1000px;max-width:1500px;overflow:auto;\">\n",
        "<table border=\"1\" class=\"dataframe\">\n",
        "  <thead>\n",
        "    <tr style=\"text-align: right;\">\n",
        "      <th></th>\n",
        "      <th></th>\n",
        "      <th>Subvention allou\u00e9e</th>\n",
        "    </tr>\n",
        "    <tr>\n",
        "      <th>B\u00e9n\u00e9ficiaire</th>\n",
        "      <th>D\u00e9partement</th>\n",
        "      <th></th>\n",
        "    </tr>\n",
        "  </thead>\n",
        "  <tbody>\n",
        "    <tr>\n",
        "      <th>LE PERREUX-SUR-MARNE</th>\n",
        "      <th>94</th>\n",
        "      <td> 3835675</td>\n",
        "    </tr>\n",
        "    <tr>\n",
        "      <th>COMPIEGNE</th>\n",
        "      <th>60</th>\n",
        "      <td> 1232762</td>\n",
        "    </tr>\n",
        "    <tr>\n",
        "      <th>VILLENEUVE-SUR-LOT</th>\n",
        "      <th>47</th>\n",
        "      <td> 1038557</td>\n",
        "    </tr>\n",
        "    <tr>\n",
        "      <th>TROYES</th>\n",
        "      <th>10</th>\n",
        "      <td> 1000000</td>\n",
        "    </tr>\n",
        "    <tr>\n",
        "      <th>AVRILLE</th>\n",
        "      <th>49</th>\n",
        "      <td>  950000</td>\n",
        "    </tr>\n",
        "    <tr>\n",
        "      <th>MEAUX</th>\n",
        "      <th>77</th>\n",
        "      <td>  800000</td>\n",
        "    </tr>\n",
        "    <tr>\n",
        "      <th>CHANTILLY</th>\n",
        "      <th>60</th>\n",
        "      <td>  770000</td>\n",
        "    </tr>\n",
        "    <tr>\n",
        "      <th>PROVINS</th>\n",
        "      <th>77</th>\n",
        "      <td>  679000</td>\n",
        "    </tr>\n",
        "    <tr>\n",
        "      <th>ANTIBES</th>\n",
        "      <th>6</th>\n",
        "      <td>  650000</td>\n",
        "    </tr>\n",
        "    <tr>\n",
        "      <th>DOUZY</th>\n",
        "      <th>8</th>\n",
        "      <td>  630600</td>\n",
        "    </tr>\n",
        "  </tbody>\n",
        "</table>\n",
        "</div>"
       ],
       "output_type": "pyout",
       "prompt_number": 35,
       "text": [
        "                                  Subvention allou\u00e9e\n",
        "B\u00e9n\u00e9ficiaire         D\u00e9partement                    \n",
        "LE PERREUX-SUR-MARNE 94                      3835675\n",
        "COMPIEGNE            60                      1232762\n",
        "VILLENEUVE-SUR-LOT   47                      1038557\n",
        "TROYES               10                      1000000\n",
        "AVRILLE              49                       950000\n",
        "MEAUX                77                       800000\n",
        "CHANTILLY            60                       770000\n",
        "PROVINS              77                       679000\n",
        "ANTIBES              6                        650000\n",
        "DOUZY                8                        630600"
       ]
      }
     ],
     "prompt_number": 35
    },
    {
     "cell_type": "code",
     "collapsed": false,
     "input": [
      "fig, ax = subplots(figsize=(8,6))\n",
      "agg_cumsum = agg.cumsum()\n",
      "total_sub = agg.sum()\n",
      "quantiles = pd.np.arange(0.01, 1, 0.01)\n",
      "ax.plot(quantiles, [agg_cumsum.quantile(q)/total_sub for q in quantiles])\n",
      "ax.grid(True)\n",
      "ax.set_title(u\"R\u00e9partition des subventions par b\u00e9n\u00e9ficaire\")\n",
      "ax.set_xlabel(u'% des b\u00e9n\u00e9ficiaires ayant re\u00e7u une subvention')\n",
      "ax.set_ylabel(u'% de la r\u00e9serve parlementaire allou\u00e9e')\n"
     ],
     "language": "python",
     "metadata": {},
     "outputs": [
      {
       "output_type": "pyout",
       "prompt_number": 34,
       "text": [
        "<matplotlib.text.Text at 0x10fb4b1d0>"
       ]
      },
      {
       "output_type": "display_data",
       "png": "[encoded data removed]"
      }
     ],
     "prompt_number": 34
    },
    {
     "cell_type": "markdown",
     "metadata": {},
     "source": [
      "80% des subventions sont allou\u00e9es \u00e0 un tiers des b\u00e9n\u00e9ficiares. Plus de 50% des subventions sont allou\u00e9es \u00e0 moins de 10% des b\u00e9n\u00e9ficiaires."
     ]
    },
    {
     "cell_type": "markdown",
     "metadata": {},
     "source": [
      "### Traitement des donn\u00e9es des \u00e9lections municipales\n"
     ]
    },
    {
     "cell_type": "code",
     "collapsed": false,
     "input": [
      "second_tour = pd.ExcelFile('../data/municipales_2008_grosses_communes.xls').parse('Tour 2')\n",
      "\n",
      "second_tour.columns[:15]"
     ],
     "language": "python",
     "metadata": {},
     "outputs": [
      {
       "output_type": "pyout",
       "prompt_number": 23,
       "text": [
        "Index([u'Code du d\u00e9partement', u'Libell\u00e9 du d\u00e9partement', u'Code de la commune', u'Libell\u00e9 de la commune', u'Inscrits', u'Abstentions', u'% Abs/Ins', u'Votants', u'% Vot/Ins', u'Blancs et nuls', u'% BlNuls/Ins', u'% BlNuls/Vot', u'Exprim\u00e9s', u'% Exp/Ins', u'% Exp/Vot'], dtype=object)"
       ]
      }
     ],
     "prompt_number": 23
    },
    {
     "cell_type": "markdown",
     "metadata": {},
     "source": [
      "Les gagnants des \u00e9lections municipales ne sont pas identifi\u00e9s dans les donn\u00e9es. Il faut les d\u00e9duire des nombres de votants pour chacun des candidats.\n",
      "Np, pandas est l\u00e0 :-)"
     ]
    },
    {
     "cell_type": "code",
     "collapsed": false,
     "input": [
      "# Get columns of votes pct and parties\n",
      "votes_pct = second_tour.filter(regex='\\% Voix\\/Ins(|\\.\\d{1,2})')\n",
      "parties = second_tour.filter(regex='Code Nuance(|\\.\\d{1,2})')"
     ],
     "language": "python",
     "metadata": {},
     "outputs": [],
     "prompt_number": 24
    },
    {
     "cell_type": "code",
     "collapsed": false,
     "input": [
      "# Get the winner id\n",
      "parties['winner_id'] = votes_pct.apply(lambda row: row.dropna().argmax(), axis=1)\n",
      "\n",
      "# And the winner party!\n",
      "winner_parties = parties.apply(lambda row: row.ix[row['winner_id']], axis=1)"
     ],
     "language": "python",
     "metadata": {},
     "outputs": [],
     "prompt_number": 25
    },
    {
     "cell_type": "code",
     "collapsed": false,
     "input": [
      "second_tour['winner_party'] = winner_parties"
     ],
     "language": "python",
     "metadata": {},
     "outputs": [],
     "prompt_number": 26
    },
    {
     "cell_type": "code",
     "collapsed": false,
     "input": [
      "print winner_parties.unique()"
     ],
     "language": "python",
     "metadata": {},
     "outputs": [
      {
       "output_type": "stream",
       "stream": "stdout",
       "text": [
        "[u'LUG' u'LDVG' u'LDVD' u'LMAJ' u'LVEC' u'LMC' u'LSOC' u'LGC' u'LCOM'\n",
        " u'LAUT' u'LCMD' u'LREG']\n"
       ]
      }
     ],
     "prompt_number": 27
    },
    {
     "cell_type": "markdown",
     "metadata": {},
     "source": [
      "##Merge des donn\u00e9es Geofla, R\u00e9serve parlementaire, Elections\n"
     ]
    },
    {
     "cell_type": "code",
     "collapsed": false,
     "input": [
      "# join only data of interest\n",
      "data = pd.DataFrame({'code_dep': res_data['D\u00e9partement'],\n",
      "                     'name': res_data['B\u00e9n\u00e9ficiaire'],\n",
      "                     'subvention': res_data['Subvention allou\u00e9e'],\n",
      "                     'politician': res_data['Parlementaire transmetteur'],\n",
      "                     'party': res_data['Groupe politique du parlementaire']})"
     ],
     "language": "python",
     "metadata": {},
     "outputs": [],
     "prompt_number": 28
    },
    {
     "cell_type": "code",
     "collapsed": false,
     "input": [
      "com_data.head()"
     ],
     "language": "python",
     "metadata": {},
     "outputs": [
      {
       "html": [
        "<div style=\"max-height:1000px;max-width:1500px;overflow:auto;\">\n",
        "<table border=\"1\" class=\"dataframe\">\n",
        "  <thead>\n",
        "    <tr style=\"text-align: right;\">\n",
        "      <th></th>\n",
        "      <th>POPULATION</th>\n",
        "      <th>code_dep</th>\n",
        "      <th>department</th>\n",
        "      <th>id</th>\n",
        "      <th>insee_code</th>\n",
        "      <th>name</th>\n",
        "      <th>population</th>\n",
        "    </tr>\n",
        "  </thead>\n",
        "  <tbody>\n",
        "    <tr>\n",
        "      <th>0</th>\n",
        "      <td> 0.9</td>\n",
        "      <td> 29</td>\n",
        "      <td> FINISTERE</td>\n",
        "      <td> 0</td>\n",
        "      <td> 29271</td>\n",
        "      <td>             SAINT-VOUGAY</td>\n",
        "      <td>  900</td>\n",
        "    </tr>\n",
        "    <tr>\n",
        "      <th>1</th>\n",
        "      <td> 3.6</td>\n",
        "      <td> 30</td>\n",
        "      <td>      GARD</td>\n",
        "      <td> 1</td>\n",
        "      <td> 30223</td>\n",
        "      <td>                  ROUSSON</td>\n",
        "      <td> 3600</td>\n",
        "    </tr>\n",
        "    <tr>\n",
        "      <th>2</th>\n",
        "      <td> 0.2</td>\n",
        "      <td> 30</td>\n",
        "      <td>      GARD</td>\n",
        "      <td> 2</td>\n",
        "      <td> 30252</td>\n",
        "      <td> SAINT-FELIX-DE-PALLIERES</td>\n",
        "      <td>  200</td>\n",
        "    </tr>\n",
        "    <tr>\n",
        "      <th>3</th>\n",
        "      <td> 0.5</td>\n",
        "      <td> 24</td>\n",
        "      <td>  DORDOGNE</td>\n",
        "      <td> 3</td>\n",
        "      <td> 24092</td>\n",
        "      <td>                CENDRIEUX</td>\n",
        "      <td>  500</td>\n",
        "    </tr>\n",
        "    <tr>\n",
        "      <th>4</th>\n",
        "      <td> 1.6</td>\n",
        "      <td> 88</td>\n",
        "      <td>    VOSGES</td>\n",
        "      <td> 4</td>\n",
        "      <td> 88463</td>\n",
        "      <td>                 TAINTRUX</td>\n",
        "      <td> 1600</td>\n",
        "    </tr>\n",
        "  </tbody>\n",
        "</table>\n",
        "</div>"
       ],
       "output_type": "pyout",
       "prompt_number": 29,
       "text": [
        "   POPULATION code_dep department id insee_code                      name  population\n",
        "0         0.9       29  FINISTERE  0      29271              SAINT-VOUGAY         900\n",
        "1         3.6       30       GARD  1      30223                   ROUSSON        3600\n",
        "2         0.2       30       GARD  2      30252  SAINT-FELIX-DE-PALLIERES         200\n",
        "3         0.5       24   DORDOGNE  3      24092                 CENDRIEUX         500\n",
        "4         1.6       88     VOSGES  4      88463                  TAINTRUX        1600"
       ]
      }
     ],
     "prompt_number": 29
    },
    {
     "cell_type": "code",
     "collapsed": false,
     "input": [
      "# Join with municipal data\n",
      "# XXX: this does not work for DOM cities\n",
      "def insee_code(row):\n",
      "    try:\n",
      "        com_code = \"%03d\"%int(row[u'Code de la commune'])\n",
      "    except:\n",
      "        com_code = (\"00%s\"%row[u'Code de la commune'])[-3:]\n",
      "    try:\n",
      "        dep_code = \"%02d\"%int(row[u'Code du d\u00e9partement'])\n",
      "    except:\n",
      "        dep_code = (\"0%s\"%row[u'Code du d\u00e9partement'])[-2:]\n",
      "    return \"%s%s\"%(dep_code, com_code)\n",
      "\n",
      "second_tour['insee_code'] = second_tour.apply(insee_code, axis=1)\n",
      "join_data_2 = join_data.merge(second_tour[['insee_code', 'winner_party']], on=['insee_code'])"
     ],
     "language": "python",
     "metadata": {},
     "outputs": [],
     "prompt_number": 60
    },
    {
     "cell_type": "code",
     "collapsed": false,
     "input": [
      "# Join with geofla data\n",
      "join_data = data.merge(com_data, on=['code_dep', 'name'])"
     ],
     "language": "python",
     "metadata": {},
     "outputs": [],
     "prompt_number": 61
    },
    {
     "cell_type": "code",
     "collapsed": false,
     "input": [
      "second_tour[[u'Code du d\u00e9partement', u'Code de la commune', 'insee_code']].head(n=10)"
     ],
     "language": "python",
     "metadata": {},
     "outputs": [
      {
       "html": [
        "<div style=\"max-height:1000px;max-width:1500px;overflow:auto;\">\n",
        "<table border=\"1\" class=\"dataframe\">\n",
        "  <thead>\n",
        "    <tr style=\"text-align: right;\">\n",
        "      <th></th>\n",
        "      <th>Code du d\u00e9partement</th>\n",
        "      <th>Code de la commune</th>\n",
        "      <th>insee_code</th>\n",
        "    </tr>\n",
        "  </thead>\n",
        "  <tbody>\n",
        "    <tr>\n",
        "      <th>0</th>\n",
        "      <td> 1</td>\n",
        "      <td>       4</td>\n",
        "      <td> 01004</td>\n",
        "    </tr>\n",
        "    <tr>\n",
        "      <th>1</th>\n",
        "      <td> 1</td>\n",
        "      <td>      34</td>\n",
        "      <td> 01034</td>\n",
        "    </tr>\n",
        "    <tr>\n",
        "      <th>2</th>\n",
        "      <td> 1</td>\n",
        "      <td>      43</td>\n",
        "      <td> 01043</td>\n",
        "    </tr>\n",
        "    <tr>\n",
        "      <th>3</th>\n",
        "      <td> 1</td>\n",
        "      <td>      93</td>\n",
        "      <td> 01093</td>\n",
        "    </tr>\n",
        "    <tr>\n",
        "      <th>4</th>\n",
        "      <td> 1</td>\n",
        "      <td>     160</td>\n",
        "      <td> 01160</td>\n",
        "    </tr>\n",
        "    <tr>\n",
        "      <th>5</th>\n",
        "      <td> 1</td>\n",
        "      <td>     283</td>\n",
        "      <td> 01283</td>\n",
        "    </tr>\n",
        "    <tr>\n",
        "      <th>6</th>\n",
        "      <td> 1</td>\n",
        "      <td> 283SN01</td>\n",
        "      <td> 01N01</td>\n",
        "    </tr>\n",
        "    <tr>\n",
        "      <th>7</th>\n",
        "      <td> 2</td>\n",
        "      <td>      95</td>\n",
        "      <td> 02095</td>\n",
        "    </tr>\n",
        "    <tr>\n",
        "      <th>8</th>\n",
        "      <td> 2</td>\n",
        "      <td>     168</td>\n",
        "      <td> 02168</td>\n",
        "    </tr>\n",
        "    <tr>\n",
        "      <th>9</th>\n",
        "      <td> 2</td>\n",
        "      <td>     722</td>\n",
        "      <td> 02722</td>\n",
        "    </tr>\n",
        "  </tbody>\n",
        "</table>\n",
        "</div>"
       ],
       "output_type": "pyout",
       "prompt_number": 63,
       "text": [
        "  Code du d\u00e9partement Code de la commune insee_code\n",
        "0                   1                  4      01004\n",
        "1                   1                 34      01034\n",
        "2                   1                 43      01043\n",
        "3                   1                 93      01093\n",
        "4                   1                160      01160\n",
        "5                   1                283      01283\n",
        "6                   1            283SN01      01N01\n",
        "7                   2                 95      02095\n",
        "8                   2                168      02168\n",
        "9                   2                722      02722"
       ]
      }
     ],
     "prompt_number": 63
    },
    {
     "cell_type": "code",
     "collapsed": false,
     "input": [
      "join_data_2[['subvention', 'party', 'code_dep', 'population']].head()"
     ],
     "language": "python",
     "metadata": {},
     "outputs": [
      {
       "html": [
        "<div style=\"max-height:1000px;max-width:1500px;overflow:auto;\">\n",
        "<table border=\"1\" class=\"dataframe\">\n",
        "  <thead>\n",
        "    <tr style=\"text-align: right;\">\n",
        "      <th></th>\n",
        "      <th>subvention</th>\n",
        "      <th>party</th>\n",
        "      <th>code_dep</th>\n",
        "      <th>population</th>\n",
        "    </tr>\n",
        "  </thead>\n",
        "  <tbody>\n",
        "    <tr>\n",
        "      <th>0</th>\n",
        "      <td>  4792</td>\n",
        "      <td> SOC</td>\n",
        "      <td> 78</td>\n",
        "      <td> 19500</td>\n",
        "    </tr>\n",
        "    <tr>\n",
        "      <th>1</th>\n",
        "      <td> 80000</td>\n",
        "      <td> UMP</td>\n",
        "      <td> 34</td>\n",
        "      <td> 24000</td>\n",
        "    </tr>\n",
        "    <tr>\n",
        "      <th>2</th>\n",
        "      <td> 30000</td>\n",
        "      <td> UMP</td>\n",
        "      <td> 34</td>\n",
        "      <td> 24000</td>\n",
        "    </tr>\n",
        "    <tr>\n",
        "      <th>3</th>\n",
        "      <td> 10000</td>\n",
        "      <td> UMP</td>\n",
        "      <td> 34</td>\n",
        "      <td> 24000</td>\n",
        "    </tr>\n",
        "    <tr>\n",
        "      <th>4</th>\n",
        "      <td>  7000</td>\n",
        "      <td> SOC</td>\n",
        "      <td> 30</td>\n",
        "      <td>  4200</td>\n",
        "    </tr>\n",
        "  </tbody>\n",
        "</table>\n",
        "</div>"
       ],
       "output_type": "pyout",
       "prompt_number": 64,
       "text": [
        "   subvention party code_dep  population\n",
        "0        4792   SOC       78       19500\n",
        "1       80000   UMP       34       24000\n",
        "2       30000   UMP       34       24000\n",
        "3       10000   UMP       34       24000\n",
        "4        7000   SOC       30        4200"
       ]
      }
     ],
     "prompt_number": 64
    },
    {
     "cell_type": "code",
     "collapsed": false,
     "input": [
      "# Merge policitical party\n",
      "second_tour['winner_party'].unique()"
     ],
     "language": "python",
     "metadata": {},
     "outputs": [
      {
       "output_type": "pyout",
       "prompt_number": 65,
       "text": [
        "array([u'LUG', u'LDVG', u'LDVD', u'LMAJ', u'LVEC', u'LMC', u'LSOC', u'LGC',\n",
        "       u'LCOM', u'LAUT', u'LCMD', u'LREG'], dtype=object)"
       ]
      }
     ],
     "prompt_number": 65
    },
    {
     "cell_type": "code",
     "collapsed": false,
     "input": [
      "print res_data['Groupe politique du parlementaire'].unique()"
     ],
     "language": "python",
     "metadata": {},
     "outputs": [
      {
       "output_type": "stream",
       "stream": "stdout",
       "text": [
        "['UMP' 'UDI' 'NI' nan 'SRC' 'SOC' 'RDSE' 'SOCV' 'GDR' 'UC' 'CRC-SPG' 'NC'\n",
        " 'CRC' 'ECO']\n"
       ]
      }
     ],
     "prompt_number": 66
    },
    {
     "cell_type": "code",
     "collapsed": false,
     "input": [
      "# To simplify, we guess that have 4 parties: EG, G, C, D, ED \n",
      "municipal_mapping = {'LUG': 'G', 'LDVD': 'D', 'LMAJ': 'D',\n",
      "                     'LVEC': 'G', 'LMC': 'D', 'LSOC': 'G',\n",
      "                     'LGC': '?', 'LCOM': 'EG', 'LAUT': '?',\n",
      "                     'LREG': '?'}\n",
      "\n",
      "party_mapping = {'UMP': 'D', 'UDI': 'C', 'NI': '?', 'SRC': '?',\n",
      "                 'SOC': 'G', 'SOCV': 'G', 'RDSE': 'G', 'GDR': 'D',\n",
      "                 'UC': 'C', 'CRC-SPG': '?', 'NC': '?', 'CRC': '?',\n",
      "                 'ECO': '?'}"
     ],
     "language": "python",
     "metadata": {},
     "outputs": [],
     "prompt_number": 67
    },
    {
     "cell_type": "code",
     "collapsed": false,
     "input": [],
     "language": "python",
     "metadata": {},
     "outputs": []
    }
   ],
   "metadata": {}
  }
 ]
}